{
 "cells": [
  {
   "cell_type": "markdown",
   "id": "066f0cdf",
   "metadata": {},
   "source": [
    "# [matplotlib](https://matplotlib.org/) is the most widely used scientific plotting library in Python\n",
    "\n",
    "* Commonly use a sub-library called [matplotlib.pyplot](https://matplotlib.org/stable/tutorials/introductory/pyplot.html).\n",
    "* The Jupyter Notebook will render plots inline by default."
   ]
  },
  {
   "cell_type": "code",
   "execution_count": 2,
   "id": "b9f3f0ff",
   "metadata": {},
   "outputs": [],
   "source": [
    "# import matplotlib.pylot under the alias plt\n",
    "import matplotlib.pyplot as plt"
   ]
  },
  {
   "cell_type": "markdown",
   "id": "9c972970",
   "metadata": {},
   "source": [
    "* Simple plots are then (fairly) simple to create."
   ]
  },
  {
   "cell_type": "code",
   "execution_count": null,
   "id": "8a9ddf9e-59af-47bb-8e6a-5c16fba2b16c",
   "metadata": {},
   "outputs": [],
   "source": [
    "time = [0, 1, 2, 3]\n",
    "position = [0, 100, 200, 300]\n",
    "\n",
    "plt.plot(time, position)\n",
    "plt.xlabel('Time (hr)')\n",
    "plt.ylabel('Position (km)')"
   ]
  },
  {
   "cell_type": "markdown",
   "id": "4fec42d3",
   "metadata": {},
   "source": [
    "### Note: \n",
    "\n",
    "In our Jupyter Notebook example, running the cell should generate the figure directly below the code. The figure is also included in the Notebook document for future viewing. However, other Python environments like an interactive Python session started from a terminal or a Python script executed via the command line require an additional command to display the figure.\n",
    "\n",
    "Instruct `matplotlib` to show a figure:"
   ]
  },
  {
   "cell_type": "code",
   "execution_count": null,
   "id": "0cb2b4b5",
   "metadata": {},
   "outputs": [],
   "source": [
    "plt.show()"
   ]
  },
  {
   "cell_type": "markdown",
   "id": "4f5ad38a",
   "metadata": {},
   "source": [
    "This command can also be used within a Notebook - for instance, to display multiple figures if several are created by a single cell."
   ]
  },
  {
   "cell_type": "markdown",
   "id": "75ef29cb",
   "metadata": {},
   "source": [
    "# Plot data directly from a Pandas dataframe\n",
    "\n",
    "* We can also plot [Pandas dataframes](https://pandas.pydata.org/pandas-docs/stable/generated/pandas.DataFrame.html).\n",
    "* Before plotting, we convert the column headings from a string to integer data type, since they represent numerical values, using [`str.replace()`](https://pandas.pydata.org/docs/reference/api/pandas.Series.str.replace.html) to remove the `gpdPercap_ prefix` and then `astype(int)` to convert the series of string values (`['1952', '1957', ..., '2007']`) to a series of integers: `[1925, 1957, ..., 2007]`."
   ]
  },
  {
   "cell_type": "code",
   "execution_count": null,
   "id": "54438a80",
   "metadata": {},
   "outputs": [],
   "source": [
    "import pandas as pd\n",
    "\n",
    "data = pd.read_csv('data/gapminder_gdp_oceania.csv', index_col='country')\n",
    "\n",
    "# Extract year from last 4 characters of each column name\n",
    "# The current column names are structured as 'gdpPercap_(year)', \n",
    "# so we want to keep the (year) part only for clarity when plotting GDP vs. years\n",
    "# To do this we use replace(), which removes from the string the characters stated in the argument\n",
    "# This method works on strings, so we use replace() from Pandas Series.str vectorized string functions\n",
    "\n",
    "years = data.columns.str.replace('gdpPercap_', '')\n",
    "\n",
    "# Convert year values to integers, saving results back to dataframe\n",
    "\n",
    "data.columns = years.astype(int)\n",
    "\n",
    "data.loc['Australia'].plot()"
   ]
  },
  {
   "cell_type": "markdown",
   "id": "8bc3b3bb",
   "metadata": {},
   "source": [
    "# Select and transform data, then plot it\n",
    "\n",
    "* By default, `DataFrame.plot` plots with the rows as the X axis.\n",
    "* We can transpose the data in order to plot multiple series."
   ]
  },
  {
   "cell_type": "code",
   "execution_count": null,
   "id": "bceaf026",
   "metadata": {},
   "outputs": [],
   "source": [
    "data.T.plot()\n",
    "plt.ylabel('GDP per capita')"
   ]
  },
  {
   "cell_type": "markdown",
   "id": "20e5fe13",
   "metadata": {},
   "source": [
    "# Many styles of plot are available\n",
    "\n",
    "For example, do a bar plot using a fancier style."
   ]
  },
  {
   "cell_type": "code",
   "execution_count": null,
   "id": "7ee1fbb3",
   "metadata": {},
   "outputs": [],
   "source": [
    "plt.style.use('ggplot')\n",
    "data.T.plot(kind='bar')\n",
    "plt.ylabel('GDP per capita')"
   ]
  },
  {
   "cell_type": "markdown",
   "id": "b17ec6d1",
   "metadata": {},
   "source": [
    "# Data can also be plotted by calling the `matplotlib plot` function directly\n",
    "\n",
    "* The command is `plt.plot(x, y)`\n",
    "* The color and format of markers can also be specified as an additional optional argument e.g., `b-` is a blue line, `g--` is a green dashed line.\n",
    "\n",
    "### Get Australia data from dataframe"
   ]
  },
  {
   "cell_type": "code",
   "execution_count": null,
   "id": "5e7c467e",
   "metadata": {},
   "outputs": [],
   "source": [
    "years = data.columns\n",
    "gdp_australia = data.loc['Australia']\n",
    "\n",
    "plt.plot(years, gdp_australia, 'g--')"
   ]
  },
  {
   "cell_type": "markdown",
   "id": "e02bbb11",
   "metadata": {},
   "source": [
    "### Plot many sets of data together"
   ]
  },
  {
   "cell_type": "code",
   "execution_count": null,
   "id": "8a9d4ef8",
   "metadata": {},
   "outputs": [],
   "source": [
    "# Select two countries' worth of data.\n",
    "gdp_australia = data.loc['Australia']\n",
    "gdp_nz = data.loc['New Zealand']\n",
    "\n",
    "# Plot with differently-colored markers.\n",
    "plt.plot(years, gdp_australia, 'b-', label='Australia')\n",
    "plt.plot(years, gdp_nz, 'g-', label='New Zealand')\n",
    "\n",
    "# Create legend.\n",
    "plt.legend(loc='upper left')\n",
    "plt.xlabel('Year')\n",
    "plt.ylabel('GDP per capita ($)')"
   ]
  },
  {
   "cell_type": "markdown",
   "id": "c1e4a4b0",
   "metadata": {},
   "source": [
    "### Add a legend\n",
    "\n",
    "Often when plotting multiple datasets on the same figure it is desirable to have a legend describing the data.\n",
    "\n",
    "This can be done in `matplotlib` in two stages:\n",
    "\n",
    "* Provide a label for each dataset in the figure:"
   ]
  },
  {
   "cell_type": "code",
   "execution_count": null,
   "id": "e7ef4ae6",
   "metadata": {},
   "outputs": [],
   "source": [
    "plt.plot(years, gdp_australia, label='Australia')\n",
    "plt.plot(years, gdp_nz, label='New Zealand')"
   ]
  },
  {
   "cell_type": "markdown",
   "id": "7c03da7e",
   "metadata": {},
   "source": [
    "* Instruct `matplotlib` to create the legend."
   ]
  },
  {
   "cell_type": "code",
   "execution_count": null,
   "id": "782b280b",
   "metadata": {},
   "outputs": [],
   "source": [
    "plt.legend()"
   ]
  },
  {
   "cell_type": "markdown",
   "id": "6169cc94",
   "metadata": {},
   "source": [
    "By default matplotlib will attempt to place the legend in a suitable position. If you would rather specify a position this can be done with the `loc=` argument, e.g to place the legend in the upper left corner of the plot, specify `loc='upper left'`\n",
    "\n",
    "* Plot a scatter plot correlating the GDP of Australia and New Zealand\n",
    "* Use either `plt.scatter` or `DataFrame.plot.scatter`"
   ]
  },
  {
   "cell_type": "code",
   "execution_count": null,
   "id": "d81f1802",
   "metadata": {},
   "outputs": [],
   "source": [
    "plt.scatter(gdp_australia, gdp_nz)"
   ]
  },
  {
   "cell_type": "code",
   "execution_count": null,
   "id": "92db9a49",
   "metadata": {},
   "outputs": [],
   "source": [
    "data.T.plot.scatter(x = 'Australia', y = 'New Zealand')"
   ]
  },
  {
   "cell_type": "markdown",
   "id": "b5da17ed",
   "metadata": {},
   "source": [
    "### Save your plot to a file\n",
    "\n",
    "If you are satisfied with the plot you see you may want to save it to a file, perhaps to include it in a publication. There is a function in the matplotlib.pyplot module that accomplishes this: [savefig](https://matplotlib.org/stable/api/_as_gen/matplotlib.pyplot.savefig.html). Calling this function, e.g. with"
   ]
  },
  {
   "cell_type": "code",
   "execution_count": null,
   "id": "60363fe4",
   "metadata": {},
   "outputs": [],
   "source": [
    "plt.savefig('my_figure.png')"
   ]
  },
  {
   "cell_type": "markdown",
   "id": "c3bc66d9",
   "metadata": {},
   "source": [
    "will save the current figure to the file `my_figure.png`. The file format will automatically be deduced from the file name extension (other formats are pdf, ps, eps and svg).\n",
    "\n",
    "Note that functions in `plt` refer to a global figure variable and after a figure has been displayed to the screen (e.g. with `plt.show`) matplotlib will make this variable refer to a new empty figure. Therefore, make sure you call `plt.savefig` before the plot is displayed to the screen, otherwise you may find a file with an empty plot.\n",
    "\n",
    "When using dataframes, data is often generated and plotted to screen in one line. In addition to using `plt.savefig`, we can save a reference to the current figure in a local variable (with `plt.gcf`) and call the `savefig` class method from that variable to save the figure to file."
   ]
  },
  {
   "cell_type": "code",
   "execution_count": null,
   "id": "91bffb7c",
   "metadata": {},
   "outputs": [],
   "source": [
    "data.plot(kind='bar')\n",
    "fig = plt.gcf() # get current figure\n",
    "fig.savefig('my_figure.png')"
   ]
  },
  {
   "cell_type": "markdown",
   "id": "4aae30fe",
   "metadata": {},
   "source": [
    "## Exercise 1:\n",
    "\n",
    "Fill in the blanks below to plot the minimum GDP per capita over time for all the countries in Europe. Modify it again to plot the maximum GDP per capita over time for Europe.\n",
    "\n",
    "```python\n",
    "data_europe = pd.read_csv('data/gapminder_gdp_europe.csv', index_col='country')\n",
    "\n",
    "data_europe.____.plot(label='min')\n",
    "\n",
    "data_europe.____\n",
    "\n",
    "plt.legend(loc='best')\n",
    "\n",
    "plt.xticks(rotation=90)\n",
    "```"
   ]
  },
  {
   "cell_type": "code",
   "execution_count": null,
   "id": "a4bb95f0",
   "metadata": {},
   "outputs": [],
   "source": []
  },
  {
   "cell_type": "markdown",
   "id": "97d82242",
   "metadata": {},
   "source": [
    "## Exercise 2\n",
    "\n",
    "Modify the example in the notes to create a scatter plot showing the relationship between the minimum and maximum GDP per capita among the countries in Asia for each year in the data set. What relationship do you see (if any)?"
   ]
  },
  {
   "cell_type": "code",
   "execution_count": null,
   "id": "a73ecb5e",
   "metadata": {},
   "outputs": [],
   "source": []
  },
  {
   "cell_type": "markdown",
   "id": "b13265a2",
   "metadata": {},
   "source": [
    "## Exercise 3\n",
    "\n",
    "This short program creates a plot showing the correlation between GDP and life expectancy for 2007, normalizing marker size by population:"
   ]
  },
  {
   "cell_type": "code",
   "execution_count": null,
   "id": "222405a7",
   "metadata": {},
   "outputs": [],
   "source": [
    "data_all = pd.read_csv('data/gapminder_all.csv', index_col='country')\n",
    "data_all.plot(kind='scatter', x='gdpPercap_2007', y='lifeExp_2007',\n",
    "              s=data_all['pop_2007']/1e6)"
   ]
  },
  {
   "cell_type": "markdown",
   "id": "70a8201f",
   "metadata": {},
   "source": [
    "Using online help and other resources, explain what each argument to `plot` does.\n"
   ]
  },
  {
   "cell_type": "markdown",
   "id": "4d6d42b1-3d3f-4cef-b6a3-1db6a5de820d",
   "metadata": {},
   "source": []
  }
 ],
 "metadata": {
  "kernelspec": {
   "display_name": "Python 3 (ipykernel)",
   "language": "python",
   "name": "python3"
  },
  "language_info": {
   "codemirror_mode": {
    "name": "ipython",
    "version": 3
   },
   "file_extension": ".py",
   "mimetype": "text/x-python",
   "name": "python",
   "nbconvert_exporter": "python",
   "pygments_lexer": "ipython3",
   "version": "3.12.3"
  }
 },
 "nbformat": 4,
 "nbformat_minor": 5
}
