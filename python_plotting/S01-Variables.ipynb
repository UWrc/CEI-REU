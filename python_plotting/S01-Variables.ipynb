{
 "cells": [
  {
   "cell_type": "markdown",
   "id": "28caaa29",
   "metadata": {},
   "source": [
    "# Use variables to store values\n",
    "\n",
    "**Variables are names for values**\n",
    "\n",
    "Variable names: \n",
    "* can **only** contain letters, digits, and underscore _ (typically used to separate words in long variable names)\n",
    "* cannot start with a digit\n",
    "* are **case sensitive** (age, Age and AGE are three different variables)\n",
    "* should also be meaningful so you or another programmer know what it is\n",
    "\n",
    "In Python, variable names that start with underscores like `__alistairs_real_age` have a special meaning so we won’t do that until we understand the convention.\n",
    "\n",
    "In Python the = symbol assigns the value on the right to the name on the left.\n",
    "\n",
    "The variable is created when a value is assigned to it.\n",
    "\n",
    "Here, Python assigns an `age` to a variable age and a name in quotes to a variable `first_name`."
   ]
  },
  {
   "cell_type": "code",
   "execution_count": null,
   "id": "c100be6b",
   "metadata": {},
   "outputs": [],
   "source": [
    "age = 42\n",
    "first_name = 'Ahmed'"
   ]
  },
  {
   "cell_type": "markdown",
   "id": "4cea7119",
   "metadata": {},
   "source": [
    "# Use `print` to display values\n",
    "\n",
    "Python has a built-in function called `print` that prints things as text. Call the function (i.e., tell Python to run it) by using its name. Provide values to the function (i.e., the things to print) in parentheses. To add a string to the printout, wrap the string in single or double quotes. The values passed to the function are called **arguments**."
   ]
  },
  {
   "cell_type": "code",
   "execution_count": null,
   "id": "96df8737",
   "metadata": {},
   "outputs": [],
   "source": [
    "print(first_name, 'is', age, 'years old.')"
   ]
  },
  {
   "cell_type": "markdown",
   "id": "76d8590d",
   "metadata": {},
   "source": [
    "`print` automatically puts a single space between items to separate them. And wraps around to a new line at the end."
   ]
  },
  {
   "cell_type": "markdown",
   "id": "723b1d0a",
   "metadata": {},
   "source": [
    "# Variables must be created before they are used\n",
    "\n",
    "If a variable doesn’t exist yet, or if the name has been mis-spelled, Python reports an error. (Unlike some languages, which “guess” a default value.)"
   ]
  },
  {
   "cell_type": "code",
   "execution_count": null,
   "id": "fc9e79be",
   "metadata": {},
   "outputs": [],
   "source": [
    "print(last_name)"
   ]
  },
  {
   "cell_type": "markdown",
   "id": "534660b8",
   "metadata": {},
   "source": [
    "The last line of an error message is usually the most informative."
   ]
  },
  {
   "cell_type": "markdown",
   "id": "b92aaf5d",
   "metadata": {},
   "source": [
    "# VARIABLES PERSIST BETWEEN CELLS\n",
    "\n",
    "Be aware that it is the order of execution of cells that is important in a Jupyter notebook, not the order in which they appear. Python will remember all the code that was run previously, including any variables you have defined, irrespective of the order in the notebook. Therefore if you define variables lower down the notebook and then (re)run cells further up, those defined further down will still be present. As an example, create two cells with the following content, in this order:"
   ]
  },
  {
   "cell_type": "code",
   "execution_count": null,
   "id": "5d43f179",
   "metadata": {},
   "outputs": [],
   "source": [
    "print(myval)"
   ]
  },
  {
   "cell_type": "code",
   "execution_count": null,
   "id": "44dbc019",
   "metadata": {},
   "outputs": [],
   "source": [
    "myval = 1"
   ]
  },
  {
   "cell_type": "markdown",
   "id": "a1f26c25",
   "metadata": {},
   "source": [
    "If you execute this in order, the first cell will give an error. However, if you run the first cell *after* the second cell it will print out `1`. To prevent confusion, it can be helpful to use the **Kernel -> Restart & Run All** option which clears the interpreter and runs everything from a clean slate going top to bottom."
   ]
  },
  {
   "cell_type": "markdown",
   "id": "e3a894e3",
   "metadata": {},
   "source": [
    "# Variables can be used in calculations\n",
    "\n",
    "We can use variables in calculations just as if they were values. Remember, we assigned the value 42 to age a few lines ago."
   ]
  },
  {
   "cell_type": "code",
   "execution_count": null,
   "id": "6434d0ab",
   "metadata": {},
   "outputs": [],
   "source": [
    "print(age)"
   ]
  },
  {
   "cell_type": "code",
   "execution_count": null,
   "id": "ca2a8ac8",
   "metadata": {},
   "outputs": [],
   "source": [
    "age = age +3\n",
    "print('Age in three years', age)"
   ]
  },
  {
   "attachments": {
    "Screenshot%202024-05-28%20at%205.12.31%E2%80%AFPM.png": {
     "image/png": "[encoded data removed]"
    }
   },
   "cell_type": "markdown",
   "id": "7352ee50",
   "metadata": {},
   "source": [
    "# Use an index to get a single character from a string\n",
    "\n",
    "In Python, a string is a sequence of characters enclosed within single quotes ('...') or double quotes (\"...\"). Strings are used to represent text data and are immutable, meaning that once a string is created, it cannot be changed.\n",
    "\n",
    "* The characters (individual letters, numbers, and so on) in a string are ordered. For example, the string 'AB' is not the same as 'BA'. Because of this ordering, we can treat the string as a list of characters. \n",
    "* Each position in the string (first, second, etc.) is given a number. This number is called an index or sometimes a subscript.\n",
    "* Indices are numbered from 0. Use the position’s index in square brackets to get the character at that position.\n",
    "\n",
    "![Screenshot%202024-05-28%20at%205.12.31%E2%80%AFPM.png](attachment:Screenshot%202024-05-28%20at%205.12.31%E2%80%AFPM.png)"
   ]
  },
  {
   "cell_type": "code",
   "execution_count": null,
   "id": "d649f186",
   "metadata": {},
   "outputs": [],
   "source": [
    "atom_name = 'helium'\n",
    "print(atom_name[0])"
   ]
  },
  {
   "cell_type": "markdown",
   "id": "cea7064c",
   "metadata": {},
   "source": [
    "# Use a slice to get a substring\n",
    "\n",
    "* A part of a string is called a **substring**. A substring can be as short as a single character.\n",
    "* An item in a list is called an element. Whenever we treat a string as if it were a list, the string’s elements are its individual characters.\n",
    "* A slice is a part of a string (or, more generally, a part of any list-like thing).\n",
    "* We take a slice with the notation [start:stop], where start is the integer index of the first element we want and stop is the integer index of the element *just after* the last element we want.\n",
    "* The difference between stop and start is the slice’s length.\n",
    "* Taking a slice does not change the contents of the original string. Instead, taking a slice returns a copy of part of the original string."
   ]
  },
  {
   "cell_type": "code",
   "execution_count": null,
   "id": "82ad2c45-e0f6-44fe-adc9-f25ba0a9346d",
   "metadata": {},
   "outputs": [],
   "source": [
    "atom_name = 'sodium'\n",
    "print(atom_name[0:3])"
   ]
  },
  {
   "cell_type": "markdown",
   "id": "94883ec6",
   "metadata": {},
   "source": [
    "# Use the built-in function len to find the length of a string\n",
    "\n",
    "Nested functions are evaluated from the inside out, like in mathematics."
   ]
  },
  {
   "cell_type": "code",
   "execution_count": null,
   "id": "5e7b1a1a",
   "metadata": {},
   "outputs": [],
   "source": [
    "print(len('helium'))"
   ]
  },
  {
   "cell_type": "markdown",
   "id": "67bd1a2b",
   "metadata": {},
   "source": [
    "# Python is case-sensitive\n",
    "\n",
    "* Python thinks that upper- and lower-case letters are different, so `Name` and `name` are different variables.\n",
    "* There are conventions for using upper-case letters at the start of variable names so we will use lower-case letters for now."
   ]
  },
  {
   "cell_type": "markdown",
   "id": "11ca092b",
   "metadata": {},
   "source": [
    "# Use meaningful variable names\n",
    "\n",
    "* Python doesn’t care what you call variables as long as they obey the rules (alphanumeric characters and the underscore).\n",
    "* Use meaningful variable names to help other people understand what the program does.\n",
    "* The most important “other person” is your future self."
   ]
  },
  {
   "cell_type": "code",
   "execution_count": null,
   "id": "4cd25f98",
   "metadata": {},
   "outputs": [],
   "source": [
    "flabadab = 42\n",
    "ewr_422_yY = 'Ahmed'\n",
    "print(ewr_422_yY, 'is', flabadab, 'years old')"
   ]
  },
  {
   "cell_type": "markdown",
   "id": "e715eb9f",
   "metadata": {},
   "source": [
    "## Exercise 1:\n",
    "\n",
    "What is the final value of position in the program below? (Try to predict the value without running the program, then check your prediction.)"
   ]
  },
  {
   "cell_type": "code",
   "execution_count": null,
   "id": "c33b5b6b",
   "metadata": {},
   "outputs": [],
   "source": [
    "initial = 'left'\n",
    "position = initial\n",
    "initial = 'right'"
   ]
  },
  {
   "cell_type": "markdown",
   "id": "bf1bac25-395f-4f92-9641-b301fbf79399",
   "metadata": {},
   "source": [
    "*Solution:*"
   ]
  },
  {
   "cell_type": "code",
   "execution_count": null,
   "id": "00451f3e",
   "metadata": {},
   "outputs": [],
   "source": [
    "print(position)"
   ]
  },
  {
   "cell_type": "markdown",
   "id": "8d690aa8",
   "metadata": {},
   "source": [
    "The `initial` variable is assigned the value 'left'. In the second line, the `position` variable also receives the string value 'left'. In third line, the `initial` variable is given the value 'right', but the `position` variable retains its string value of 'left'."
   ]
  },
  {
   "cell_type": "markdown",
   "id": "99ee68e8",
   "metadata": {},
   "source": [
    "## Exercise 2:\n",
    "\n",
    "If you assign `a = 123`, what happens if you try to get the second digit of `a` via `a[1]`?"
   ]
  },
  {
   "cell_type": "code",
   "execution_count": null,
   "id": "6b42bc22",
   "metadata": {},
   "outputs": [],
   "source": [
    "a = 123\n",
    "print(a[1])"
   ]
  },
  {
   "cell_type": "markdown",
   "id": "9db766a2",
   "metadata": {},
   "source": [
    "*Solution:*\n",
    "\n",
    "Numbers are not strings or sequences and Python will raise an error if you try to perform an index operation on a number. In the next lesson on types and type conversion we will learn more about types and how to convert between different types. If you want the Nth digit of a number you can convert it into a string using the `str` built-in function and then perform an index operation on that string."
   ]
  },
  {
   "cell_type": "code",
   "execution_count": null,
   "id": "6204f838",
   "metadata": {},
   "outputs": [],
   "source": [
    "a = str(123)\n",
    "print(a[1])"
   ]
  },
  {
   "cell_type": "markdown",
   "id": "8a86cd55",
   "metadata": {},
   "source": [
    "## Exercise 3:\n",
    "\n",
    "Which is a better variable name, `m`, `min`, or `minutes`? Why? Hint: think about which code you would rather inherit from someone who is leaving the lab:\n",
    "\n",
    "```python\n",
    "ts = m * 60 + s\n",
    "tot_sec = min * 60 + sec\n",
    "total_seconds = minutes * 60 + seconds\n",
    "```"
   ]
  },
  {
   "cell_type": "markdown",
   "id": "e9740423",
   "metadata": {},
   "source": [
    "*Solution:*\n",
    "\n",
    "`minutes` is better because `min` might mean something like “minimum” (and actually is an existing built-in function in Python that we will cover later)."
   ]
  },
  {
   "cell_type": "markdown",
   "id": "67939d51",
   "metadata": {},
   "source": [
    "## Exercise 4:\n",
    "\n",
    "What does the following program print?"
   ]
  },
  {
   "cell_type": "code",
   "execution_count": null,
   "id": "c68211c6-e4c2-4dfe-b8d5-7f1d497fa072",
   "metadata": {},
   "outputs": [],
   "source": [
    "atom_name = 'carbon'\n",
    "print('atom_name[1:3] is:', atom_name[1:3])"
   ]
  },
  {
   "cell_type": "markdown",
   "id": "99a47927",
   "metadata": {},
   "source": [
    "## Exercise 5:\n",
    "\n",
    "Given the following string:\n",
    "\n",
    "`species_name = \"Acacia buxifolia\"`\n",
    "\n",
    "What would these expressions return (try to predict the result before running the code yourself)?\n",
    "\n",
    "```python\n",
    "species_name[2:8]\n",
    "species_name[11:] #(without a value after the colon)\n",
    "species_name[:4] #(without a value before the colon)\n",
    "species_name[:] #(just a colon)\n",
    "species_name[11:-3]\n",
    "species_name[-5:-3]\n",
    "# What happens when you choose a stop value which is out of range? (i.e., try `species_name[0:20]` or `species_name[:103]`)\n",
    "```"
   ]
  },
  {
   "cell_type": "code",
   "execution_count": 1,
   "id": "c0870667",
   "metadata": {},
   "outputs": [],
   "source": [
    "species_name = \"Acacia buxifolia\""
   ]
  },
  {
   "cell_type": "markdown",
   "id": "f0621de6",
   "metadata": {},
   "source": [
    "Use the following cells to try it out:"
   ]
  },
  {
   "cell_type": "code",
   "execution_count": null,
   "id": "6dc79950",
   "metadata": {},
   "outputs": [],
   "source": [
    "species_name[2:8]"
   ]
  },
  {
   "cell_type": "code",
   "execution_count": null,
   "id": "7d10a663",
   "metadata": {},
   "outputs": [],
   "source": [
    "species_name[11:]"
   ]
  },
  {
   "cell_type": "code",
   "execution_count": null,
   "id": "4fb07e58",
   "metadata": {},
   "outputs": [],
   "source": [
    "species_name[:4]"
   ]
  },
  {
   "cell_type": "code",
   "execution_count": null,
   "id": "3a0d598d",
   "metadata": {},
   "outputs": [],
   "source": [
    "species_name[:]"
   ]
  },
  {
   "cell_type": "code",
   "execution_count": null,
   "id": "6d935b5f",
   "metadata": {},
   "outputs": [],
   "source": [
    "species_name[11:-3]"
   ]
  },
  {
   "cell_type": "code",
   "execution_count": null,
   "id": "02f64d5d",
   "metadata": {},
   "outputs": [],
   "source": [
    "species_name[-5:-3]"
   ]
  },
  {
   "cell_type": "code",
   "execution_count": null,
   "id": "697c964b",
   "metadata": {},
   "outputs": [],
   "source": [
    "species_name[0:20]"
   ]
  },
  {
   "cell_type": "code",
   "execution_count": null,
   "id": "8a6727c3",
   "metadata": {},
   "outputs": [],
   "source": [
    "species_name[:103]"
   ]
  }
 ],
 "metadata": {
  "kernelspec": {
   "display_name": "Python 3 (ipykernel)",
   "language": "python",
   "name": "python3"
  },
  "language_info": {
   "codemirror_mode": {
    "name": "ipython",
    "version": 3
   },
   "file_extension": ".py",
   "mimetype": "text/x-python",
   "name": "python",
   "nbconvert_exporter": "python",
   "pygments_lexer": "ipython3",
   "version": "3.12.3"
  }
 },
 "nbformat": 4,
 "nbformat_minor": 5
}
