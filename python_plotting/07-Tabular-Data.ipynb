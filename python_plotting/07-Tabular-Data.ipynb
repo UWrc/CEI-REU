{
 "cells": [
  {
   "cell_type": "markdown",
   "id": "9b78e992",
   "metadata": {},
   "source": [
    "# Use the Pandas library to do statistics on tabular data\n",
    "\n",
    "* [Pandas](https://pandas.pydata.org/) is a widely-used Python library for statistics, particularly on tabular data.\n",
    "* Borrows many features from R’s dataframes.\n",
    "    * A 2-dimensional table whose columns have names and potentially have different data types.\n",
    "* Load Pandas with `import pandas as pd`. The **alias** `pd` is commonly used to refer to the Pandas library in code.\n",
    "* Read a Comma Separated Values (CSV) data file with `pd.read_csv`.\n",
    "    * Argument is the name of the file to be read.\n",
    "    * Returns a dataframe that you can assign to a variable"
   ]
  },
  {
   "cell_type": "code",
   "execution_count": null,
   "id": "1774e809-3734-4f0a-93fc-6d47a2b9d381",
   "metadata": {},
   "outputs": [],
   "source": [
    "import pandas as pd\n",
    "\n",
    "data_oceania = pd.read_csv('data/gapminder_gdp_oceania.csv')\n",
    "print(data_oceania)"
   ]
  },
  {
   "cell_type": "markdown",
   "id": "8218d95e",
   "metadata": {},
   "source": [
    "* The columns in a dataframe are the observed variables, and the rows are the observations.\n",
    "* Pandas uses backslash \\ to show wrapped lines when output is too wide to fit the screen.\n",
    "* Using descriptive dataframe names helps us distinguish between multiple dataframes so we won’t accidentally overwrite a dataframe or read from the wrong one."
   ]
  },
  {
   "cell_type": "markdown",
   "id": "e25c61fd",
   "metadata": {},
   "source": [
    "### Note: \n",
    "This lesson stores data files in a data sub-directory, which is why the path to the file is data/gapminder_gdp_oceania.csv. ***If you forget to include data/, or if you include it but your copy of the file is somewhere else***, you will get a runtime error that ends with a line like this:\n",
    "\n",
    "```python\n",
    "FileNotFoundError: [Errno 2] No such file or directory: 'data/gapminder_gdp_oceania.csv'\n",
    "```"
   ]
  },
  {
   "cell_type": "markdown",
   "id": "d18762f5",
   "metadata": {},
   "source": [
    "# Use `index_col` to specify that a column’s values should be used as row headings\n",
    "\n",
    "* Row headings are numbers (0 and 1 in this case).\n",
    "* Really want to index by country.\n",
    "* Pass the name of the column to `read_csv` as its `index_col` parameter to do this.\n",
    "* Naming the dataframe `data_oceania_country` tells us which region the data includes (`oceania`) and how it is indexed (`country`)."
   ]
  },
  {
   "cell_type": "code",
   "execution_count": null,
   "id": "9555d4d4-6f36-4e52-a2f4-dca2727aa8fc",
   "metadata": {},
   "outputs": [],
   "source": [
    "data_oceania_country = pd.read_csv('data/gapminder_gdp_oceania.csv', index_col='country')\n",
    "print(data_oceania_country)"
   ]
  },
  {
   "cell_type": "markdown",
   "id": "168c406f",
   "metadata": {},
   "source": [
    "# Use the `DataFrame.info()` method to find out more about a dataframe"
   ]
  },
  {
   "cell_type": "code",
   "execution_count": null,
   "id": "bcb17cdc",
   "metadata": {},
   "outputs": [],
   "source": [
    "data_oceania_country.info()"
   ]
  },
  {
   "cell_type": "markdown",
   "id": "565310cb",
   "metadata": {},
   "source": [
    "* This is a DataFrame\n",
    "* Two rows named 'Australia' and 'New Zealand'\n",
    "* Twelve columns, each of which has two actual 64-bit floating point values.\n",
    "    * We will talk later about null values, which are used to represent missing observations.\n",
    "* Uses 208 bytes of memory."
   ]
  },
  {
   "cell_type": "markdown",
   "id": "530201c3",
   "metadata": {},
   "source": [
    "# The `DataFrame.columns` variable stores information about the dataframe’s columns\n",
    "\n",
    "* Note that this is data, ***not a method***. (It doesn’t have parentheses.)\n",
    "    * Like `math.pi`.\n",
    "    * So do not use `()` to try to call it.\n",
    "* Called a ***member variable***, or just ***member***."
   ]
  },
  {
   "cell_type": "code",
   "execution_count": null,
   "id": "89f67feb",
   "metadata": {},
   "outputs": [],
   "source": [
    "print(data_oceania_country.columns)"
   ]
  },
  {
   "cell_type": "markdown",
   "id": "35cde73f",
   "metadata": {},
   "source": [
    "# Use `DataFrame.T` to transpose a dataframe\n",
    "\n",
    "* Sometimes want to treat columns as rows and vice versa.\n",
    "* Transpose (written `.T`) doesn’t copy the data, just changes the program’s view of it.\n",
    "* Like `columns`, it is a member variable."
   ]
  },
  {
   "cell_type": "code",
   "execution_count": null,
   "id": "7e0ac4a0",
   "metadata": {},
   "outputs": [],
   "source": [
    "print(data_oceania_country.T)"
   ]
  },
  {
   "cell_type": "markdown",
   "id": "02d8041d",
   "metadata": {},
   "source": [
    "Not particularly useful with just two records, but very helpful when there are thousands."
   ]
  },
  {
   "cell_type": "markdown",
   "id": "0ab8637b",
   "metadata": {},
   "source": [
    "## Exercise 1: \n",
    "\n",
    "Read the data in `gapminder_gdp_americas.csv` (which should be in the same directory as `gapminder_gdp_oceania.csv` above) into a variable called `data_americas` and display its summary statistics."
   ]
  },
  {
   "cell_type": "code",
   "execution_count": null,
   "id": "3f059a5f",
   "metadata": {},
   "outputs": [],
   "source": []
  },
  {
   "cell_type": "markdown",
   "id": "95180400",
   "metadata": {},
   "source": [
    "## Exercise 2:\n",
    "\n",
    "After reading the data for the Americas, use `help(data_americas.head)` and `help(data_americas.tail)` to find out what `DataFrame.head` and `DataFrame.tail` do.\n",
    "\n",
    "1. What method call will display the first three rows of this data?\n",
    "2. What method call will display the last three columns of this data? (Hint: you may need to change your view of the data.)"
   ]
  },
  {
   "cell_type": "code",
   "execution_count": null,
   "id": "2d04be9d",
   "metadata": {},
   "outputs": [],
   "source": []
  },
  {
   "cell_type": "markdown",
   "id": "a232698b",
   "metadata": {},
   "source": [
    "## Exercise 3:\n",
    "\n",
    "As well as the `read_csv` function for reading data from a file, Pandas provides a `to_csv` function to write dataframes to files. Applying what you’ve learned about reading from files, write one of your dataframes to a file called `processed.csv`. You can use help to get information on how to use `to_csv`.\n"
   ]
  },
  {
   "cell_type": "code",
   "execution_count": null,
   "id": "d1531d19",
   "metadata": {},
   "outputs": [],
   "source": []
  }
 ],
 "metadata": {
  "kernelspec": {
   "display_name": "Python 3 (ipykernel)",
   "language": "python",
   "name": "python3"
  },
  "language_info": {
   "codemirror_mode": {
    "name": "ipython",
    "version": 3
   },
   "file_extension": ".py",
   "mimetype": "text/x-python",
   "name": "python",
   "nbconvert_exporter": "python",
   "pygments_lexer": "ipython3",
   "version": "3.12.3"
  }
 },
 "nbformat": 4,
 "nbformat_minor": 5
}
